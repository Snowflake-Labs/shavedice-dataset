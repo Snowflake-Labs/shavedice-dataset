{
 "cells": [
  {
   "cell_type": "markdown",
   "id": "37f90c20-193e-43c0-8297-b830dd26d81b",
   "metadata": {},
   "source": [
    "# Introduction to Working with the Dataset in Python\n",
    "\n",
    "## Reading the data\n",
    "\n",
    "To import the raw data we will depend on the pyarrow and pandas packages.  These and the other required Python libraries are included in the `requirements.txt` file, and you can install these dependencies with `pip install -r requirements.txt`"
   ]
  },
  {
   "cell_type": "code",
   "execution_count": 3,
   "id": "5024fa9b-1bdb-4c4e-a0ba-299d4cb6a04c",
   "metadata": {},
   "outputs": [
    {
     "data": {
      "text/html": [
       "<div>\n",
       "<style scoped>\n",
       "    .dataframe tbody tr th:only-of-type {\n",
       "        vertical-align: middle;\n",
       "    }\n",
       "\n",
       "    .dataframe tbody tr th {\n",
       "        vertical-align: top;\n",
       "    }\n",
       "\n",
       "    .dataframe thead th {\n",
       "        text-align: right;\n",
       "    }\n",
       "</style>\n",
       "<table border=\"1\" class=\"dataframe\">\n",
       "  <thead>\n",
       "    <tr style=\"text-align: right;\">\n",
       "      <th></th>\n",
       "      <th>USAGE_HOUR</th>\n",
       "      <th>REGION_NUM</th>\n",
       "      <th>INSTANCE_TYPE</th>\n",
       "      <th>NORM_USAGE</th>\n",
       "    </tr>\n",
       "  </thead>\n",
       "  <tbody>\n",
       "    <tr>\n",
       "      <th>0</th>\n",
       "      <td>2021-11-01 00:00:00+00:00</td>\n",
       "      <td>4</td>\n",
       "      <td>A</td>\n",
       "      <td>329.0</td>\n",
       "    </tr>\n",
       "    <tr>\n",
       "      <th>1</th>\n",
       "      <td>2021-11-01 00:00:00+00:00</td>\n",
       "      <td>2</td>\n",
       "      <td>A</td>\n",
       "      <td>236.0</td>\n",
       "    </tr>\n",
       "    <tr>\n",
       "      <th>2</th>\n",
       "      <td>2021-11-01 00:00:00+00:00</td>\n",
       "      <td>4</td>\n",
       "      <td>B</td>\n",
       "      <td>22.0</td>\n",
       "    </tr>\n",
       "    <tr>\n",
       "      <th>3</th>\n",
       "      <td>2021-11-01 00:00:00+00:00</td>\n",
       "      <td>4</td>\n",
       "      <td>H</td>\n",
       "      <td>4.0</td>\n",
       "    </tr>\n",
       "    <tr>\n",
       "      <th>4</th>\n",
       "      <td>2021-11-01 00:00:00+00:00</td>\n",
       "      <td>2</td>\n",
       "      <td>F</td>\n",
       "      <td>1.0</td>\n",
       "    </tr>\n",
       "  </tbody>\n",
       "</table>\n",
       "</div>"
      ],
      "text/plain": [
       "                 USAGE_HOUR REGION_NUM INSTANCE_TYPE  NORM_USAGE\n",
       "0 2021-11-01 00:00:00+00:00          4             A       329.0\n",
       "1 2021-11-01 00:00:00+00:00          2             A       236.0\n",
       "2 2021-11-01 00:00:00+00:00          4             B        22.0\n",
       "3 2021-11-01 00:00:00+00:00          4             H         4.0\n",
       "4 2021-11-01 00:00:00+00:00          2             F         1.0"
      ]
     },
     "execution_count": 3,
     "metadata": {},
     "output_type": "execute_result"
    }
   ],
   "source": [
    "import pandas as pd\n",
    "\n",
    "df = pd.read_parquet(\"hourly_normalized.parquet\")\n",
    "df.head()"
   ]
  },
  {
   "cell_type": "markdown",
   "id": "7016db4b-cae4-48e8-a2f7-a0b2308747e4",
   "metadata": {},
   "source": [
    "# Visualizing the Data\n",
    "\n",
    "The visualizations in the Shaved Ice paper were made with R and ggplot2 but similar figures can be made in Python with matplotlib."
   ]
  },
  {
   "cell_type": "code",
   "execution_count": 4,
   "id": "fd7eb8e0-9241-4607-8f44-b5370fb67d79",
   "metadata": {},
   "outputs": [
    {
     "data": {
      "text/plain": [
       "<Axes: xlabel='USAGE_HOUR'>"
      ]
     },
     "execution_count": 4,
     "metadata": {},
     "output_type": "execute_result"
    },
    {
     "data": {
      "image/png": "[encoded data removed]",
      "text/plain": [
       "<Figure size 640x480 with 1 Axes>"
      ]
     },
     "metadata": {},
     "output_type": "display_data"
    }
   ],
   "source": [
    "import matplotlib.pyplot as plt\n",
    "df.set_index('USAGE_HOUR').plot()"
   ]
  },
  {
   "cell_type": "markdown",
   "id": "37a94b7a-a1a3-4833-a222-5b10674f5922",
   "metadata": {},
   "source": [
    "## Plot different instance types and facet by the four different regions"
   ]
  },
  {
   "cell_type": "code",
   "execution_count": 5,
   "id": "5695c046-9399-4e95-8e76-4dfd1db22ca9",
   "metadata": {},
   "outputs": [
    {
     "name": "stdout",
     "output_type": "stream",
     "text": [
      "The history saving thread hit an unexpected error (OperationalError('attempt to write a readonly database')).History will not be written to the database.\n"
     ]
    }
   ],
   "source": [
    "import seaborn as sns\n",
    "# Create the facetted line plot using seaborn\n",
    "g = sns.relplot(\n",
    "    data=df,\n",
    "    x='USAGE_HOUR',\n",
    "    y='NORM_USAGE',\n",
    "    hue='INSTANCE_TYPE',\n",
    "    kind='line',\n",
    "    col='REGION_NUM',  # Facet by 'facet' column\n",
    "    col_wrap=2,   # Wrap facets into 2 columns\n",
    "    height=3,\n",
    "    aspect=1,\n",
    "    \")\\n\",\n",
    "    \"\\n\",\n",
    "    \"# Customize the plot (optional)\\n\",\n",
    "    \"g.set_xlabels('X-axis')\\n\",\n",
    "    \"g.set_ylabels('Y-axis')\\n\",\n",
    "    \"g.fig.suptitle('Multiple Lines with Facets')\\n\",\n",
    "    \"\\n\",\n",
    "    \"plt.show()"
   ]
  },
  {
   "cell_type": "code",
   "execution_count": null,
   "id": "7d584e45-6354-49dd-bc13-04f7983c0741",
   "metadata": {},
   "outputs": [],
   "source": []
  }
 ],
 "metadata": {
  "language_info": {
   "name": "python"
  }
 },
 "nbformat": 4,
 "nbformat_minor": 5
}
